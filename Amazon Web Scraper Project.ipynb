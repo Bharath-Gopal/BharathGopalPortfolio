{
 "cells": [
  {
   "cell_type": "code",
   "execution_count": 1,
   "id": "c02ed23b",
   "metadata": {},
   "outputs": [],
   "source": [
    "import pandas as pd\n",
    "from bs4 import BeautifulSoup\n",
    "import requests\n",
    "import smtplib\n",
    "import time\n",
    "import datetime\n",
    "import csv"
   ]
  },
  {
   "cell_type": "code",
   "execution_count": 2,
   "id": "0dedca6c",
   "metadata": {
    "scrolled": true
   },
   "outputs": [
    {
     "name": "stdout",
     "output_type": "stream",
     "text": [
      "\n",
      "           Apple 2023 MacBook Air Laptop with M2 chip: 15.3-inch Liquid Retina Display, 8GB Unified Memory, 256GB SSD Storage, 1080p FaceTime HD Camera, Touch ID. Works with iPhone/iPad; Starlight\n",
      "          \n",
      "$792.29\n"
     ]
    }
   ],
   "source": [
    "url = 'https://www.amazon.com/Apple-2023-MacBook-Laptop-chip/dp/B0C7686169/ref=sr_1_3?crid=2CW8R7FHRZJFQ&dib=eyJ2IjoiMSJ9.HAoXI6dWg3HMbJa4A0TWx-t1v4CWfhZz0e2BeHakOu8IElWGJu47Em65WBZ9iQHga9uV97g3ZPx3Fa-5an9Z0ApPDrZE17BT3GfdAuOLsTbvXT9LbHLbKWuj55-GQ-6wSekJp6pM5BAr_LuWTXmJOjVjv2wUqDlSOD7Cj2BhHyI8o_WsMoJxRamzMuh7rnEmGaF1PRYPIRVMZycKrT7Qm7z9woqewNhJAMrJogKPlNNjvpiuFlsiaRYUOudUa6ORx69rsf9K9G0lFpbauqqxQQwa3WdEKwOUPXiw6loY7wc.ERRIHC-2pl8eukJCQZbw0gjljKdaXOudefbbz_QGUJc&dib_tag=se&keywords=laptops&qid=1725384464&refinements=p_123%3A110955&rnid=85457740011&s=electronics&sprefix=laptops%2Caps%2C106&sr=1-3'\n",
    "page = requests.get(url)\n",
    "\n",
    "soup1 = BeautifulSoup(page.content, 'html.parser')\n",
    "soup2 = BeautifulSoup(soup1.prettify(), 'html.parser')\n",
    "\n",
    "title = soup2.find(id='productTitle').get_text()\n",
    "price_symbol = soup2.find(class_='a-price-symbol').get_text(strip=True)\n",
    "price_whole = soup2.find(class_='a-price-whole').get_text(strip=True)\n",
    "price_fraction = soup2.find(class_='a-price-fraction').get_text(strip=True)\n",
    "price = f'{price_symbol}{price_whole}{price_fraction}'\n",
    "\n",
    "print(title)\n",
    "print(price)\n",
    "\n",
    "\n",
    "\n",
    "#print(soup2)"
   ]
  },
  {
   "cell_type": "code",
   "execution_count": 3,
   "id": "824d8a4e",
   "metadata": {},
   "outputs": [
    {
     "data": {
      "text/plain": [
       "'792.29'"
      ]
     },
     "execution_count": 3,
     "metadata": {},
     "output_type": "execute_result"
    }
   ],
   "source": [
    "price = price.strip()[1:]\n",
    "price"
   ]
  },
  {
   "cell_type": "code",
   "execution_count": 4,
   "id": "aee4dd02",
   "metadata": {},
   "outputs": [
    {
     "data": {
      "text/plain": [
       "'Apple 2023 MacBook Air Laptop with M2 chip: 15.3-inch Liquid Retina Display, 8GB Unified Memory, 256GB SSD Storage, 1080p FaceTime HD Camera, Touch ID. Works with iPhone/iPad; Starlight'"
      ]
     },
     "execution_count": 4,
     "metadata": {},
     "output_type": "execute_result"
    }
   ],
   "source": [
    "title = title.strip()\n",
    "title"
   ]
  },
  {
   "cell_type": "code",
   "execution_count": 5,
   "id": "ab1d0f39",
   "metadata": {},
   "outputs": [
    {
     "name": "stdout",
     "output_type": "stream",
     "text": [
      "2024-09-03\n"
     ]
    }
   ],
   "source": [
    "today = datetime.date.today()\n",
    "print(today)"
   ]
  },
  {
   "cell_type": "code",
   "execution_count": 6,
   "id": "4a763047",
   "metadata": {},
   "outputs": [],
   "source": [
    "header = ['Title', 'Price', 'Date']\n",
    "data = [title, price, today]\n",
    "\n",
    "with open('AmazonScapperDataset.csv', 'w', newline='', encoding='UTF8') as f:\n",
    "    writer = csv.writer(f)\n",
    "    writer.writerow(header)\n",
    "    writer.writerow(data)"
   ]
  },
  {
   "cell_type": "code",
   "execution_count": 7,
   "id": "f0ce9804",
   "metadata": {},
   "outputs": [],
   "source": [
    "df = pd.read_csv(r'C:\\Users\\Bharath\\DS 2024\\AmazonScapperDataset.csv')"
   ]
  },
  {
   "cell_type": "code",
   "execution_count": 8,
   "id": "6815f96c",
   "metadata": {},
   "outputs": [
    {
     "data": {
      "text/html": [
       "<div>\n",
       "<style scoped>\n",
       "    .dataframe tbody tr th:only-of-type {\n",
       "        vertical-align: middle;\n",
       "    }\n",
       "\n",
       "    .dataframe tbody tr th {\n",
       "        vertical-align: top;\n",
       "    }\n",
       "\n",
       "    .dataframe thead th {\n",
       "        text-align: right;\n",
       "    }\n",
       "</style>\n",
       "<table border=\"1\" class=\"dataframe\">\n",
       "  <thead>\n",
       "    <tr style=\"text-align: right;\">\n",
       "      <th></th>\n",
       "      <th>Title</th>\n",
       "      <th>Price</th>\n",
       "      <th>Date</th>\n",
       "    </tr>\n",
       "  </thead>\n",
       "  <tbody>\n",
       "    <tr>\n",
       "      <th>0</th>\n",
       "      <td>Apple 2023 MacBook Air Laptop with M2 chip: 15...</td>\n",
       "      <td>792.29</td>\n",
       "      <td>2024-09-03</td>\n",
       "    </tr>\n",
       "  </tbody>\n",
       "</table>\n",
       "</div>"
      ],
      "text/plain": [
       "                                               Title   Price        Date\n",
       "0  Apple 2023 MacBook Air Laptop with M2 chip: 15...  792.29  2024-09-03"
      ]
     },
     "execution_count": 8,
     "metadata": {},
     "output_type": "execute_result"
    }
   ],
   "source": [
    "df"
   ]
  },
  {
   "cell_type": "code",
   "execution_count": null,
   "id": "9f746120",
   "metadata": {},
   "outputs": [],
   "source": []
  },
  {
   "cell_type": "code",
   "execution_count": null,
   "id": "90a6a601",
   "metadata": {},
   "outputs": [],
   "source": []
  },
  {
   "cell_type": "code",
   "execution_count": 1,
   "id": "033b398e",
   "metadata": {},
   "outputs": [],
   "source": [
    "def check_price():\n",
    "    url = 'https://www.amazon.com/Apple-2023-MacBook-Laptop-chip/dp/B0C7686169/ref=sr_1_3?crid=2CW8R7FHRZJFQ&dib=eyJ2IjoiMSJ9.HAoXI6dWg3HMbJa4A0TWx-t1v4CWfhZz0e2BeHakOu8IElWGJu47Em65WBZ9iQHga9uV97g3ZPx3Fa-5an9Z0ApPDrZE17BT3GfdAuOLsTbvXT9LbHLbKWuj55-GQ-6wSekJp6pM5BAr_LuWTXmJOjVjv2wUqDlSOD7Cj2BhHyI8o_WsMoJxRamzMuh7rnEmGaF1PRYPIRVMZycKrT7Qm7z9woqewNhJAMrJogKPlNNjvpiuFlsiaRYUOudUa6ORx69rsf9K9G0lFpbauqqxQQwa3WdEKwOUPXiw6loY7wc.ERRIHC-2pl8eukJCQZbw0gjljKdaXOudefbbz_QGUJc&dib_tag=se&keywords=laptops&qid=1725384464&refinements=p_123%3A110955&rnid=85457740011&s=electronics&sprefix=laptops%2Caps%2C106&sr=1-3'\n",
    "    page = requests.get(url)\n",
    "\n",
    "    soup1 = BeautifulSoup(page.content, 'html.parser')\n",
    "    soup2 = BeautifulSoup(soup1.prettify(), 'html.parser')\n",
    "\n",
    "    title = soup2.find(id='productTitle').get_text()\n",
    "    price_symbol = soup2.find(class_='a-price-symbol').get_text(strip=True)\n",
    "    price_whole = soup2.find(class_='a-price-whole').get_text(strip=True)\n",
    "    price_fraction = soup2.find(class_='a-price-fraction').get_text(strip=True)\n",
    "    price = f'{price_symbol}{price_whole}{price_fraction}'\n",
    "    \n",
    "    price = price.strip()[1:]\n",
    "    title = title.strip()\n",
    "    \n",
    "    today = datetime.date.today()\n",
    "    \n",
    "    header = ['Title', 'Price', 'Date']\n",
    "    data = [title, price, today]\n",
    "    \n",
    "    with open('AmazonScapperDataset.csv', 'a+', newline='', encoding='UTF8') as f:\n",
    "        writer = csv.writer(f)\n",
    "        writer.writerow(data)\n",
    "        \n",
    "    if price <=500:\n",
    "        send_mail()"
   ]
  },
  {
   "cell_type": "code",
   "execution_count": null,
   "id": "c1077827",
   "metadata": {},
   "outputs": [],
   "source": [
    "while(True):\n",
    "    check_price()\n",
    "    time.sleep(86400)"
   ]
  },
  {
   "cell_type": "code",
   "execution_count": null,
   "id": "e19f44a5",
   "metadata": {},
   "outputs": [],
   "source": [
    "df = pd.read_csv(r'C:\\Users\\Bharath\\DS 2024\\AmazonScapperDataset.csv')\n",
    "df"
   ]
  },
  {
   "cell_type": "code",
   "execution_count": 2,
   "id": "17952714",
   "metadata": {},
   "outputs": [],
   "source": [
    "def send_mail():\n",
    "    server = smtplib.SMTP_SSL('smtp.gmail.com',465)\n",
    "    server.ehlo()\n",
    "    #server.starttls()\n",
    "    server.ehlo()\n",
    "    server.login('bharathgopal999@gmail.com','xxxxxxxxxxxxxx')\n",
    "    \n",
    "    subject = \"The Laptop you want is below $500! Now is your chance to buy!\"\n",
    "    body = \" The laptop is below $500!! Link here: https://www.amazon.com/Apple-2023-MacBook-Laptop-chip/dp/B0C7686169/ref=sr_1_3?crid=2CW8R7FHRZJFQ&dib=eyJ2IjoiMSJ9.HAoXI6dWg3HMbJa4A0TWx-t1v4CWfhZz0e2BeHakOu8IElWGJu47Em65WBZ9iQHga9uV97g3ZPx3Fa-5an9Z0ApPDrZE17BT3GfdAuOLsTbvXT9LbHLbKWuj55-GQ-6wSekJp6pM5BAr_LuWTXmJOjVjv2wUqDlSOD7Cj2BhHyI8o_WsMoJxRamzMuh7rnEmGaF1PRYPIRVMZycKrT7Qm7z9woqewNhJAMrJogKPlNNjvpiuFlsiaRYUOudUa6ORx69rsf9K9G0lFpbauqqxQQwa3WdEKwOUPXiw6loY7wc.ERRIHC-2pl8eukJCQZbw0gjljKdaXOudefbbz_QGUJc&dib_tag=se&keywords=laptops&qid=1725384464&refinements=p_123%3A110955&rnid=85457740011&s=electronics&sprefix=laptops%2Caps%2C106&sr=1-3&th=1\"\n",
    "   \n",
    "    msg = f\"Subject: {subject}\\n\\n{body}\"\n",
    "    \n",
    "    server.sendmail(\n",
    "        'bharathgopal999@gmail.com',\n",
    "        msg\n",
    "     \n",
    "    )"
   ]
  },
  {
   "cell_type": "code",
   "execution_count": null,
   "id": "dfb2f0c9",
   "metadata": {},
   "outputs": [],
   "source": []
  }
 ],
 "metadata": {
  "kernelspec": {
   "display_name": "Python 3 (ipykernel)",
   "language": "python",
   "name": "python3"
  },
  "language_info": {
   "codemirror_mode": {
    "name": "ipython",
    "version": 3
   },
   "file_extension": ".py",
   "mimetype": "text/x-python",
   "name": "python",
   "nbconvert_exporter": "python",
   "pygments_lexer": "ipython3",
   "version": "3.9.12"
  }
 },
 "nbformat": 4,
 "nbformat_minor": 5
}
