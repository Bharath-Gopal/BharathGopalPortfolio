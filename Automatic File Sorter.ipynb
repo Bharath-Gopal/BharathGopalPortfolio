{
 "cells": [
  {
   "cell_type": "code",
   "execution_count": 1,
   "id": "a8b71b38",
   "metadata": {},
   "outputs": [],
   "source": [
    "import os, shutil"
   ]
  },
  {
   "cell_type": "code",
   "execution_count": 2,
   "id": "4d452a8a",
   "metadata": {},
   "outputs": [],
   "source": [
    "path = r\"C:/Users/Bharath/OneDrive/Documents/Docs/DS/\""
   ]
  },
  {
   "cell_type": "code",
   "execution_count": 3,
   "id": "35e312b6",
   "metadata": {},
   "outputs": [],
   "source": [
    "file_name = os.listdir(path)"
   ]
  },
  {
   "cell_type": "code",
   "execution_count": 4,
   "id": "f53f0580",
   "metadata": {},
   "outputs": [],
   "source": [
    "folder_names = ['sql files', 'tableau files', 'excel files', 'power BI files']\n",
    "\n",
    "for loop in range(0,4):\n",
    "    if not os.path.exists(path + folder_names[loop]):\n",
    "        os.makedirs(path + folder_names[loop])\n",
    "\n",
    "for file in file_name:\n",
    "    if \".sql\" in file and not os.path.exists(path + \"sql files/\" + file):\n",
    "        shutil.move(path + file, path + \"sql files/\" + file)\n",
    "    elif \".twb\" in file and not os.path.exists(path + \"tableau files/\" + file):\n",
    "        shutil.move(path + file, path + \"tableau files/\" + file)\n",
    "    elif \".pbix\" in file and not os.path.exists(path + \"power BI files/\" + file):\n",
    "        shutil.move(path + file, path + \"power BI files/\" + file)\n",
    "    elif \".xlsx\" in file and not os.path.exists(path + \"excel files/\" + file):\n",
    "        shutil.move(path + file, path + \"excel files/\" + file)"
   ]
  },
  {
   "cell_type": "code",
   "execution_count": null,
   "id": "713932e0",
   "metadata": {},
   "outputs": [],
   "source": []
  },
  {
   "cell_type": "code",
   "execution_count": null,
   "id": "9d109e00",
   "metadata": {},
   "outputs": [],
   "source": []
  }
 ],
 "metadata": {
  "kernelspec": {
   "display_name": "Python 3 (ipykernel)",
   "language": "python",
   "name": "python3"
  },
  "language_info": {
   "codemirror_mode": {
    "name": "ipython",
    "version": 3
   },
   "file_extension": ".py",
   "mimetype": "text/x-python",
   "name": "python",
   "nbconvert_exporter": "python",
   "pygments_lexer": "ipython3",
   "version": "3.9.12"
  }
 },
 "nbformat": 4,
 "nbformat_minor": 5
}
